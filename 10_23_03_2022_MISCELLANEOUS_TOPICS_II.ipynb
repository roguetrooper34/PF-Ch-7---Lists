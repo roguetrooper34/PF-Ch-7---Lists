{
 "cells": [
  {
   "cell_type": "code",
   "execution_count": 11,
   "metadata": {
    "pycharm": {
     "name": "#%%\n"
    }
   },
   "outputs": [
    {
     "name": "stdout",
     "output_type": "stream",
     "text": [
      "Invalid format! Try again.\n",
      "The number of births in February are 8 and the number of births on 25th of any given month are 4\n"
     ]
    }
   ],
   "source": [
    "# Question 19\n",
    "from pprint import pprint\n",
    "\n",
    "list_of_birthdays = []\n",
    "births_on_feb = 0\n",
    "births_on_25 = 0\n",
    "\n",
    "while True:\n",
    "    birthday_input = input(\"Please enter a birthday (in the format dd/mm): \")\n",
    "\n",
    "    # If the field is left empty, stop input and present the list of birthdays.\n",
    "    if len(birthday_input) == 0: \n",
    "        break\n",
    "    \n",
    "    # There has to be a \"/\" in the string, and the string cannot be lesser than 3 or greater than 5 for a valid date format.\n",
    "    elif \"/\" not in birthday_input or not (3 <= len(birthday_input) <= 5): \n",
    "        print(\"Invalid format! Try again.\")\n",
    "        continue\n",
    "    \n",
    "    else:\n",
    "        # Separate the days and the months\n",
    "        birthday_input = birthday_input.split(\"/\")\n",
    "        \n",
    "        # For example the user inputs 1/3/5, it would catch this and present an error\n",
    "        if len(birthday_input) != 2: \n",
    "            print(\"Invalid format! Try again.\")\n",
    "            continue\n",
    "\n",
    "        # Check if there are valid 1-2 digits in place of 'dd' and 'mm'\n",
    "        elif not (1 <= len(birthday_input[0]) <= 2) or not (1 <= len(birthday_input[1]) <= 2) or birthday_input[0].isnumeric is False or birthday_input[1].isnumeric is False: \n",
    "            print(\"Invalid format! Try again.\")\n",
    "            continue\n",
    "\n",
    "        else:\n",
    "            # Now convert them into integers and check if they are in valid ranges for days or months\n",
    "            birthday_input = [int(i) for i in birthday_input]\n",
    "            if not (1 <= birthday_input[0] <= 31) or not (1 <= birthday_input[1] <= 12):\n",
    "                print(\"Invalid format! Try again.\")\n",
    "                continue\n",
    "\n",
    "            list_of_birthdays.append(birthday_input)\n",
    "\n",
    "for x in list_of_birthdays:\n",
    "    if x[1] == 2:\n",
    "        births_on_feb += 1\n",
    "    if x[0] == 25:\n",
    "        births_on_25 += 1\n",
    "\n",
    "print(f\"The number of births in February are {births_on_feb} and the number of births on 25th of any given month are {births_on_25}\")\n",
    "pprint(list_of_birthdays)"
   ]
  },
  {
   "cell_type": "code",
   "execution_count": 12,
   "metadata": {
    "pycharm": {
     "name": "#%%\n"
    }
   },
   "outputs": [
    {
     "name": "stdout",
     "output_type": "stream",
     "text": [
      "Your birthday is in February 14 of 2000.\n",
      "Your birthday is in February 14 of 2000.\n"
     ]
    }
   ],
   "source": [
    "# Question 20\n",
    "months = {1: \"January\", 2: \"February\", 3: \"March\", 4: \"April\", 5: \"May\", 6: \"June\", 7: \"July\", 8: \"August\", 9: \"September\", 10: \"October\", 11: \"November\", 12: \"December\"}\n",
    "\n",
    "while True:\n",
    "    birthday_input = input(\"Please enter a birthday (in the format dd/mm/yy): \")\n",
    "\n",
    "    # If the field is left empty, stop input and present the list of birthdays.\n",
    "    if len(birthday_input) == 0: \n",
    "        break\n",
    "    \n",
    "    # There has to be 2 \"/\" in the string, and the string cannot be lesser than 5 or greater than 8 for a valid date format.\n",
    "    elif birthday_input.count(\"/\") != 2 or not (5 <= len(birthday_input) <= 8): \n",
    "        print(\"Invalid format! Try again.\")\n",
    "        continue\n",
    "    \n",
    "    else:\n",
    "        # Separate the days and the months and the years\n",
    "        birthday_input = birthday_input.split(\"/\")\n",
    "\n",
    "        # Check if there are valid 1-2 digits in place of 'dd' and 'mm' and 'yy'\n",
    "        if not (1 <= len(birthday_input[0]) <= 2) or not (1 <= len(birthday_input[1]) <= 2) or not (1 <= len(birthday_input[2]) <= 2) or birthday_input[0].isnumeric is False or birthday_input[1].isnumeric is False or birthday_input[2].isnumeric is False: \n",
    "            print(\"Invalid format! Try again.\")\n",
    "            continue\n",
    "\n",
    "        else:\n",
    "            # Now convert them into integers and check if they are in valid ranges for days or months or years\n",
    "            birthday_input = [int(i) for i in birthday_input]\n",
    "            if not (1 <= birthday_input[0] <= 31) or not (1 <= birthday_input[1] <= 12) or not (0 <= birthday_input[2] <= 22):\n",
    "                print(\"Invalid format! Try again.\")\n",
    "                continue\n",
    "\n",
    "            else:\n",
    "                month = months.get(birthday_input[1])\n",
    "                print(f\"Your birthday is in {month} {birthday_input[0]} of {birthday_input[2]+2000}.\")"
   ]
  },
  {
   "cell_type": "code",
   "execution_count": 38,
   "metadata": {
    "pycharm": {
     "name": "#%%\n"
    }
   },
   "outputs": [
    {
     "name": "stdout",
     "output_type": "stream",
     "text": [
      "The new fraction is: 7/2\n"
     ]
    }
   ],
   "source": [
    "# Question 21\n",
    "while True:\n",
    "    fraction_number = input(\"Please enter a (non-simplified) fraction number: \")\n",
    "\n",
    "    # Check if it has a valid '/' symbol\n",
    "    # And it is placed in the middle such as so that there would be two numbers, numerator and denominator (This was not tested in the last two questions but is also needed)\n",
    "    if fraction_number.count(\"/\") != 1 or len(fraction_number.split(\"/\")) != 2:\n",
    "        print(\"Invalid format, please try again.\")\n",
    "        continue\n",
    "\n",
    "    else:\n",
    "        # Check if the two numbers are valid integers\n",
    "        fraction_number = fraction_number.split(\"/\")\n",
    "\n",
    "        if False in [x.isnumeric() for x in fraction_number]:\n",
    "            print(\"Invalid format, try again.\")\n",
    "            continue\n",
    "        \n",
    "        else:\n",
    "            # We can convert it into integer format now\n",
    "            numerator = int(fraction_number[0])\n",
    "            denominator = int(fraction_number[1])\n",
    "\n",
    "            # Check if it is a valid fraction or not, or if it can be made into a whole number\n",
    "            if numerator > denominator and numerator % denominator == 0:\n",
    "                print(\"This can be made into a whole number, thus not a valid fraction.\")\n",
    "                continue\n",
    "\n",
    "            # Else, we can finally simplify\n",
    "            else: \n",
    "                # Keep simplifying until it cannot be simplified further\n",
    "                while True:\n",
    "                    # To check the upper limit of where we can test if numbers are eligible for being to use for simplification        \n",
    "                    smaller_number = numerator if numerator <= denominator else denominator\n",
    "                    for i in range(2, 1+smaller_number):\n",
    "                        # Find valid number that can be used to simplify both parts of fraction, if found then immediately divide both with that, and break the current loop, so the 'while' loop gets fed the new values\n",
    "                        if numerator % i == 0 and denominator % i == 0:\n",
    "                            numerator //= i\n",
    "                            denominator //= i\n",
    "                            break\n",
    "                    # If the entire loop runs and checks all possible values that can be used to simplify and can't find one, then we need to stop here\n",
    "                    else:\n",
    "                        break\n",
    "\n",
    "                break\n",
    "\n",
    "\n",
    "print(f\"The new fraction is: {numerator}/{denominator}\")"
   ]
  },
  {
   "cell_type": "code",
   "execution_count": 8,
   "metadata": {
    "pycharm": {
     "name": "#%%\n"
    }
   },
   "outputs": [
    {
     "name": "stdout",
     "output_type": "stream",
     "text": [
      "               Starfruits                   Mangos                  Oranges                     Cost\n",
      "Solution 1:            12                        4                       84                     $100\n",
      "Solution 2:             8                       11                       81                     $100\n",
      "Solution 3:             4                       18                       78                     $100\n"
     ]
    }
   ],
   "source": [
    "# Question 22\n",
    "# Thought of brute forcing a solution\n",
    "# However this is a mathematical problem rather than a computing problem\n",
    "# Hence we use the formula\n",
    "# 100 = 5x + 3y + (100 - x - y)/3\n",
    "# The 5x represents the value of a starfruit, 3x represents mango, and 100 - x - y represent the remaining number of oranges, which are worth $0.3, so we divide it by 3\n",
    "# The formula we get is\n",
    "# x = (100 - 4y)/7\n",
    "# Now we just need to enter different values for y, and if x is a whole number, we have found another possible solution\n",
    "\n",
    "from pprint import pprint\n",
    "\n",
    "solution = []\n",
    "\n",
    "for y in range (1, 101):\n",
    "    if (100 - (y*4)) % 7 == 0 and ((100 - (y*4)) / 7) > 0:\n",
    "        x = int((100 - (y*4)) / 7)\n",
    "        z = int(100 - x - y)\n",
    "\n",
    "        solution.append([x, y, z, int((x*5)+(y*3)+(z/3))])\n",
    "\n",
    "\n",
    "print(\"{0:>25s}{1:>25s}{2:>25s}{3:>25s}\".format(\"Starfruits\", \"Mangoes\", \"Oranges\", \"Cost\"))\n",
    "\n",
    "for i, x in enumerate(solution):\n",
    "    print(\"Solution {0}: {1:>13d}{2:>25d}{3:>25d}{4:>25s}\".format(i+1, x[0], x[1], x[2], \"$\"+str(x[3])))"
   ]
  },
  {
   "cell_type": "code",
   "execution_count": 5,
   "metadata": {
    "pycharm": {
     "name": "#%%\n"
    }
   },
   "outputs": [
    {
     "name": "stdout",
     "output_type": "stream",
     "text": [
      "Largest purchasing power that can't be paid using these two coins (5 and 11): 39\n"
     ]
    }
   ],
   "source": [
    "# Question 23\n",
    "# One coin can be considered 7x, the other 11y\n",
    "# Mathematical formula to solve this is xy-x-y\n",
    "# 77 - 7 - 11 = 59\n",
    "# x = (59-11y)/7\n",
    "# No matter what integer value of y, the answer is never an integer, hence proven\n",
    "\n",
    "x = int(input(\"Please enter value of coin 1: \"))\n",
    "y = int(input(\"Please enter value of coin 2: \"))\n",
    "\n",
    "z = (x*y)-x-y\n",
    "print(f\"Largest purchasing power that can't be paid using these two coins ({x} and {y}): {z}\")\n"
   ]
  },
  {
   "cell_type": "code",
   "execution_count": 7,
   "metadata": {
    "pycharm": {
     "name": "#%%\n"
    }
   },
   "outputs": [
    {
     "name": "stdout",
     "output_type": "stream",
     "text": [
      "52 + 66 == 118\n"
     ]
    }
   ],
   "source": [
    "# Question 24\n",
    "\n",
    "def check_equation(equation):\n",
    "    x = (equation[0]*10) + equation[1]\n",
    "    y = (equation[2]*10) + equation[3]\n",
    "    z = (equation[4]*100) + (equation[5]*10) + equation[6]\n",
    "\n",
    "    if x + y == z:\n",
    "        print(f\"{x} + {y} = {z}\")\n",
    "\n",
    "numList = [3, 2, 4, 6, 1, 9, 6]\n",
    "\n",
    "digit1 = [3, 5]\n",
    "digit2 = [2, 4]\n",
    "digit3 = [4, 6]\n",
    "digit4 = [6, 8]\n",
    "digit5 = [1, 3]\n",
    "digit6 = [9, 1]\n",
    "digit7 = [6, 8]\n",
    "\n",
    "possibleEqs = [[a, b, c, d, e, f, g] for a in digit1 for b in digit2 for c in digit3 for d in digit4 for e in digit5 for f in digit6 for g in digit7]\n",
    "\n",
    "for x in possibleEqs:\n",
    "    check_equation(x)"
   ]
  },
  {
   "cell_type": "code",
   "execution_count": 16,
   "metadata": {
    "pycharm": {
     "name": "#%%\n"
    }
   },
   "outputs": [
    {
     "name": "stdout",
     "output_type": "stream",
     "text": [
      "['x = 3, y = 2', 'x = 17, y = 12', 'x = 99, y = 70']\n"
     ]
    }
   ],
   "source": [
    "# Question 25\n",
    "from math import sqrt\n",
    "\n",
    "validequations = []\n",
    "\n",
    "for y in range(1, 101):\n",
    "    x = sqrt(1 + (2*(y**2)))\n",
    "    if 1 <= x <= 100 and x.is_integer():\n",
    "        validequations.append(f\"x = {int(x)}, y = {y}\")\n",
    "print(validequations)"
   ]
  },
  {
   "cell_type": "code",
   "execution_count": 52,
   "metadata": {
    "pycharm": {
     "name": "#%%\n"
    }
   },
   "outputs": [
    {
     "name": "stdout",
     "output_type": "stream",
     "text": [
      "x = 289, y = 64\n",
      "x = 625, y = 400\n",
      "\n",
      "Perfect squares:\n",
      "[1, 4, 9, 16, 25, 36, 49, 64, 81, 100, 121, 144, 169, 196, 225, 256, 289, 324, 361, 400, 441, 484, 529, 576, 625, 676, 729, 784, 841, 900, 961]\n"
     ]
    }
   ],
   "source": [
    "# Question 26\n",
    "from math import sqrt\n",
    "perfectsquares = []\n",
    "for i in range(1, 1001): \n",
    "    if sqrt(i).is_integer(): perfectsquares.append(i)\n",
    "\n",
    "number = int(input(\"Please enter a number: \"))\n",
    "\n",
    "found = False\n",
    "for y in perfectsquares:\n",
    "    x = number + y\n",
    "    if x in perfectsquares:\n",
    "        x = int(x)\n",
    "        print(f\"x = {x}, y = {y}\")\n",
    "        found = True\n",
    "\n",
    "if not found:\n",
    "    print(\"No way to write it as a difference of perfect squares.\")\n",
    "print(f\"\\nPerfect squares:\\n{perfectsquares}\")"
   ]
  },
  {
   "cell_type": "code",
   "execution_count": 269,
   "metadata": {
    "pycharm": {
     "name": "#%%\n"
    }
   },
   "outputs": [
    {
     "name": "stdout",
     "output_type": "stream",
     "text": [
      "Sum of  2:        Rolls:  167131        Percentage: 16.7%\n",
      "Sum of  3:        Rolls:  332354        Percentage: 33.2%\n",
      "Sum of  4:        Rolls:  500044        Percentage: 50.0%\n",
      "Sum of  5:        Rolls:  666937        Percentage: 66.7%\n",
      "Sum of  6:        Rolls:  833069        Percentage: 83.3%\n",
      "Sum of  7:        Rolls: 1000791        Percentage: 100.1%\n",
      "Sum of  8:        Rolls:  833294        Percentage: 83.3%\n",
      "Sum of  9:        Rolls:  665535        Percentage: 66.6%\n",
      "Sum of 10:        Rolls:  499171        Percentage: 49.9%\n",
      "Sum of 11:        Rolls:  334707        Percentage: 33.5%\n",
      "Sum of 12:        Rolls:  166967        Percentage: 16.7%\n"
     ]
    }
   ],
   "source": [
    "# Question 27\n",
    "from random import randint\n",
    "\n",
    "rolls = 1000000\n",
    "digits = len(str(rolls))\n",
    "\n",
    "dice1 = [randint(1, 6) for i in range(rolls)]\n",
    "dice2 = [randint(1, 6) for i in range(rolls)]\n",
    "dice3 = [randint(1, 6) for i in range(rolls)]\n",
    "dice4 = [randint(1, 6) for i in range(rolls)]\n",
    "\n",
    "sums = []\n",
    "\n",
    "for i in range(rolls):\n",
    "    sums.append([dice1[i] + dice2[i], dice1[i] + dice3[i], dice1[i] + dice4[i]])\n",
    "    sums[i].append(dice2[i] + dice3[i])\n",
    "    sums[i].append(dice2[i] + dice3[i])\n",
    "    sums[i].append(dice3[i] + dice4[i])\n",
    "\n",
    "numberofsums = [0, 0, 0, 0, 0, 0, 0, 0, 0, 0, 0]\n",
    "\n",
    "for x in sums:\n",
    "    for y in x:\n",
    "        numberofsums[y-2] += 1\n",
    "\n",
    "# print(sums)\n",
    "for i, x in enumerate(numberofsums):\n",
    "    print(\"Sum of {:2d}:        Rolls: {:7d}        Percentage: {:.1%}\".format(i+2, x, x/rolls))"
   ]
  },
  {
   "cell_type": "code",
   "execution_count": 3,
   "outputs": [
    {
     "name": "stdout",
     "output_type": "stream",
     "text": [
      "No valid possibility.\n",
      "True\n",
      "False\n",
      "10000\n"
     ]
    }
   ],
   "source": [
    "# Question 28\n",
    "magic_square = [5, None, None, None, 6, 2, 3, 8, None]\n",
    "test_square = [8, 1, 6, 3, 5, 7, 4, 9, 2]\n",
    "solved_square = [5, 1, 9, 7, 6, 2, 3, 8, 4]\n",
    "\n",
    "def check_valid_magic_square(square):\n",
    "    row_check = False\n",
    "    column_check = False\n",
    "    diagnol_check = False\n",
    "    if sum(square[0:3]) == sum(square[3:6]) == sum(square[6:10]):\n",
    "        row_check = True\n",
    "    if sum(square[i] for i in range(0, 9, 3)) == sum(square[i] for i in range(1, 9, 3)) == sum(square[i] for i in range(2, 9, 3)):\n",
    "        column_check = True\n",
    "    if sum(square[i] for i in range(0, 9, 4)) == sum(square[i] for i in range(6, 1, -2)):\n",
    "        diagnol_check = True\n",
    "    if row_check == True and column_check == True and diagnol_check == True:\n",
    "        return True\n",
    "    else:\n",
    "        return False\n",
    "\n",
    "count = 0\n",
    "found = False\n",
    "\n",
    "L = [i for i in range(0, 10)]\n",
    "\n",
    "for i in L:\n",
    "    if found:\n",
    "        break\n",
    "    magic_square[1] = i\n",
    "    for j in L:\n",
    "        if found:\n",
    "            break\n",
    "        magic_square[2] = j\n",
    "        for k in L:\n",
    "            if found:\n",
    "                break\n",
    "            magic_square[3] = k\n",
    "            for l in L:\n",
    "                if found:\n",
    "                    break\n",
    "                magic_square[8] = l\n",
    "                count += 1\n",
    "                if check_valid_magic_square(magic_square):\n",
    "                    print(magic_square)\n",
    "                    found = True\n",
    "                    break\n",
    "\n",
    "if not found:\n",
    "    print(\"No valid possibility.\")\n",
    "print(check_valid_magic_square(test_square))\n",
    "print(check_valid_magic_square(solved_square))\n",
    "print(count)"
   ],
   "metadata": {
    "collapsed": false,
    "pycharm": {
     "name": "#%%\n"
    }
   }
  },
  {
   "cell_type": "code",
   "execution_count": 2,
   "outputs": [
    {
     "name": "stdout",
     "output_type": "stream",
     "text": [
      "1\tM\t3\tM\t1\t\n",
      "1\t2\tM\t2\t1\t\n",
      "2\t3\t2\t1\t0\t\n",
      "M\tM\t2\t1\t1\t\n",
      "2\t2\t2\tM\t1\t"
     ]
    }
   ],
   "source": [
    "# Question 29\n",
    "minesweeper = [None, 'M', None, 'M', None, None, None, 'M', None, None, None, None, None, None, None, 'M', 'M', None, None, None, None, None, None, 'M', None]\n",
    "\n",
    "while None in minesweeper:\n",
    "    current_index = minesweeper.index(None)\n",
    "    how_many_mines = 0\n",
    "\n",
    "    if (current_index+6) % 5 == 0 and current_index != 0:\n",
    "        for i in [current_index + j for j in [-6, -5, -1, 4, 5]]:\n",
    "            if 0 <= i <= 24:\n",
    "                if minesweeper[i] == 'M': how_many_mines += 1\n",
    "    elif current_index % 5 == 0 and current_index != 0:\n",
    "        for i in [current_index + j for j in [-5, -4, 1, 5, 6]]:\n",
    "            if 0 <= i <= 24:\n",
    "                if minesweeper[i] == 'M': how_many_mines += 1\n",
    "    else:\n",
    "        for i in [current_index + j for j in [-6, -5, -4, -1, 1, 4, 5, 6]]:\n",
    "            if 0 <= i <= 24:\n",
    "                if minesweeper[i] == 'M': how_many_mines += 1\n",
    "\n",
    "    minesweeper[current_index] = how_many_mines\n",
    "\n",
    "\n",
    "for i in range(len(minesweeper)):\n",
    "    if i % 5 == 0 and i != 0:\n",
    "        print()\n",
    "    print(minesweeper[i], end='\\t')"
   ],
   "metadata": {
    "collapsed": false,
    "pycharm": {
     "name": "#%%\n"
    }
   }
  },
  {
   "cell_type": "code",
   "execution_count": 29,
   "outputs": [
    {
     "name": "stdout",
     "output_type": "stream",
     "text": [
      "                                            1   \n",
      "                                         1     1   \n",
      "                                      1     2     1   \n",
      "                                   1     3     3     1   \n",
      "                                1     4     6     4     1   \n",
      "                             1     5    10    10     5     1   \n",
      "                          1     6    15    20    15     6     1   \n",
      "                       1     7    21    35    35    21     7     1   \n",
      "                    1     8    28    56    70    56    28     8     1   \n",
      "                 1     9    36    84    126   126   84    36     9     1   \n",
      "              1    10    45    120   210   252   210   120   45    10     1   \n",
      "           1    11    55    165   330   462   462   330   165   55    11     1   \n",
      "        1    12    66    220   495   792   924   792   495   220   66    12     1   \n",
      "     1    13    78    286   715  1287  1716  1716  1287   715   286   78    13     1   \n",
      "  1    14    91    364  1001  2002  3003  3432  3003  2002  1001   364   91    14     1   \n"
     ]
    }
   ],
   "source": [
    "# Question 30\n",
    "from math import factorial\n",
    "\n",
    "number_of_rows = int(input(\"List of rows to generate: \"))\n",
    "pascals_triangle = []\n",
    "\n",
    "for n in range(0, number_of_rows):\n",
    "    pascals_triangle.insert(n, [])\n",
    "    for k in range(0, n+1):\n",
    "        pascals_triangle[n].insert(k, (factorial(n))//(factorial(k)*factorial(n-k)))\n",
    "\n",
    "for i, x in enumerate(pascals_triangle):\n",
    "    spaces = \" \"*(((number_of_rows-1)-i)*3)\n",
    "    print(spaces, end='')\n",
    "    for y in x:\n",
    "        print(\"{:^5d}\".format(y), end=' ')\n",
    "    print()"
   ],
   "metadata": {
    "collapsed": false,
    "pycharm": {
     "name": "#%%\n"
    }
   }
  },
  {
   "cell_type": "code",
   "execution_count": 61,
   "outputs": [
    {
     "name": "stdout",
     "output_type": "stream",
     "text": [
      "[14, 2, 2000], [16, 6, 2022]\n",
      "8156 days.\n"
     ]
    }
   ],
   "source": [
    "# Question 31\n",
    "days_in_months = {1: 31, 2: 28, 3: 31, 4: 30, 5: 31, 6: 30, 7: 31, 8: 31, 9: 30, 10: 31, 11: 30, 12: 31}\n",
    "\n",
    "def return_valid_date(date):\n",
    "    if len(date) == 10 and date.count('/') == 2 and date[2] == '/' and date[5] == '/':\n",
    "        days = date[0:2]\n",
    "        months = date[3:5]\n",
    "        years = date[6:10]\n",
    "\n",
    "        if years.isnumeric() and 1901 <= int(years) <= 2099:\n",
    "            years = int(years)\n",
    "            if months.isnumeric() and 1 <= int(months) <= 12:\n",
    "                months = int(months)\n",
    "                if days.isnumeric():\n",
    "                    days = int(days)\n",
    "                    if (years-1990) % 4 == 0: # Leap year\n",
    "                        if months == 2:\n",
    "                            if 1 <= days <= 29:\n",
    "                                return [days, months, years]\n",
    "                    if 1 <= days <= days_in_months[months]:\n",
    "                        return [days, months, years]\n",
    "\n",
    "        return 0\n",
    "    else:\n",
    "        return 0\n",
    "\n",
    "def difference_in_days(d1, d2):\n",
    "    # Calculate the number of days passed for both days since start of 1991\n",
    "    # Find the difference\n",
    "\n",
    "    date1_total_days = 0\n",
    "    date2_total_days = 0\n",
    "\n",
    "    date1_years = d1[2] - 1901\n",
    "    date1_leap_years = (d1[2] - 1900) // 5\n",
    "\n",
    "    for i in range(1, d1[1]):\n",
    "        if i == 2:\n",
    "            if (d1[2] - 1900) % 4 == 0: # Check if it's a leap year incase we need to calculate days for February\n",
    "                date1_total_days += 29\n",
    "                continue\n",
    "\n",
    "        date1_total_days += days_in_months[i]\n",
    "\n",
    "    date1_total_days += d1[0]\n",
    "\n",
    "    date1_total_days += date1_years * 365\n",
    "    date1_total_days += date1_leap_years\n",
    "\n",
    "\n",
    "\n",
    "    date2_years = d2[2] - 1901\n",
    "    date2_leap_years = (d2[2] - 1900) // 5\n",
    "\n",
    "    for i in range(1, d2[1]):\n",
    "        if i == 2:\n",
    "            if (d2[2] - 1900) % 4 == 0: # Check if it's a leap year incase we need to calculate days for February\n",
    "                date2_total_days += 29\n",
    "                continue\n",
    "\n",
    "        date2_total_days += days_in_months[i]\n",
    "\n",
    "    date2_total_days += d2[0]\n",
    "\n",
    "    date2_total_days += date2_years * 365\n",
    "    date2_total_days += date2_leap_years\n",
    "\n",
    "\n",
    "\n",
    "    if date2_total_days > date1_total_days:\n",
    "        return date2_total_days - date1_total_days\n",
    "    else:\n",
    "        return date1_total_days - date2_total_days\n",
    "\n",
    "\n",
    "\n",
    "date1 = input(\"Enter date 1: (dd/mm/yyyy): \")\n",
    "while return_valid_date(date1) == 0:\n",
    "    print(\"Invalid date.\")\n",
    "    date1 = input(\"Enter date 1: (dd/mm/yyyy): \")\n",
    "date1 = return_valid_date(date1)\n",
    "date2 = input(\"Enter date 2: (dd/mm/yyyy): \")\n",
    "while return_valid_date(date2) == 0:\n",
    "    print(\"Invalid date.\")\n",
    "    date2 = input(\"Enter date 2: (dd/mm/yyyy): \")\n",
    "date2 = return_valid_date(date2)\n",
    "\n",
    "print(date1, \", \", date2, sep='')\n",
    "print(difference_in_days(date1, date2), \"days.\")"
   ],
   "metadata": {
    "collapsed": false,
    "pycharm": {
     "name": "#%%\n"
    }
   }
  },
  {
   "cell_type": "code",
   "execution_count": 34,
   "outputs": [
    {
     "name": "stdout",
     "output_type": "stream",
     "text": [
      "Yahtzee rolls: 0.07%\n",
      "Large straights: 7.66%\n",
      "Consecutive heads: 10\n",
      "Consecutive tails: 7\n",
      "Coin flips before 5 consecutive heads: 11\n",
      "Coin flips till string is matched: 21\n"
     ]
    }
   ],
   "source": [
    "# Question 32\n",
    "from random import randint\n",
    "\n",
    "yahtzee = 0\n",
    "large_straight = 0\n",
    "rolls = 1000000\n",
    "\n",
    "coin_flips = 200\n",
    "list_coin_flips = [randint(1, 2) for i in range(coin_flips)]\n",
    "consecutive_heads = 0\n",
    "consecutive_tails = 0\n",
    "highest_heads = 0\n",
    "highest_tails = 0\n",
    "count_before_5_heads = 0\n",
    "five_heads = False\n",
    "\n",
    "string = input(\"Please enter a string: \")\n",
    "while string.count(\"H\") + string.count(\"T\") != len(string):\n",
    "    print(\"Invalid string! Please enter only in the format HHTTH!\")\n",
    "    string = input(\"Please enter a string: \")\n",
    "\n",
    "string = list(string)\n",
    "valid_string = [1 if x == 'H' else 2 for x in string]\n",
    "\n",
    "for i in range(rolls):\n",
    "    dice1 = randint(1, 6)\n",
    "    dice2 = randint(1, 6)\n",
    "    dice3 = randint(1, 6)\n",
    "    dice4 = randint(1, 6)\n",
    "    dice5 = randint(1, 6)\n",
    "    list_results = [dice1, dice2, dice3, dice4, dice5]\n",
    "\n",
    "    if dice1 == dice2 == dice3 == dice4 == dice5: yahtzee += 1\n",
    "    if 1 in list_results and 2 in list_results and 3 in list_results and 4 in list_results and 5 in list_results: large_straight += 1\n",
    "    if 2 in list_results and 2 in list_results and 3 in list_results and 4 in list_results and 5 in list_results: large_straight += 1\n",
    "\n",
    "check_last_results = [list_coin_flips[i] for i in range(len(valid_string))]\n",
    "string_count = 4\n",
    "string_found = False\n",
    "\n",
    "\n",
    "for i in range(len(list_coin_flips)):\n",
    "    if i > len(valid_string) and string_found == False:\n",
    "        string_count += 1\n",
    "        if check_last_results == valid_string:\n",
    "            string_found = True\n",
    "        else:\n",
    "            del check_last_results[0]\n",
    "            check_last_results.append(list_coin_flips[i])\n",
    "\n",
    "\n",
    "\n",
    "    if i == 0:\n",
    "        if list_coin_flips[0] == 1:\n",
    "            consecutive_heads += 1\n",
    "        else:\n",
    "            consecutive_tails += 1\n",
    "    else:\n",
    "        if list_coin_flips[i-1] == list_coin_flips[i] == 1:\n",
    "            consecutive_heads += 1\n",
    "            consecutive_tails = 0\n",
    "            if highest_heads < consecutive_heads:\n",
    "                highest_heads = consecutive_heads\n",
    "        elif list_coin_flips[i-1] == list_coin_flips[i] == 2:\n",
    "            consecutive_tails += 1\n",
    "            consecutive_heads = 0\n",
    "            if highest_tails < consecutive_tails:\n",
    "                highest_tails = consecutive_tails\n",
    "\n",
    "    if not five_heads:\n",
    "        count_before_5_heads += 1\n",
    "        if consecutive_heads == 5:\n",
    "            five_heads = True\n",
    "\n",
    "\n",
    "\n",
    "\n",
    "\n",
    "print(\"Yahtzee rolls: {:.2%}\\nLarge straights: {:.2%}\\nConsecutive heads: {}\\nConsecutive tails: {}\\nCoin flips before 5 consecutive heads: {}\\nCoin flips till string is matched: {}\".format((yahtzee/rolls), large_straight/rolls, highest_heads, highest_tails, count_before_5_heads, string_count))"
   ],
   "metadata": {
    "collapsed": false,
    "pycharm": {
     "name": "#%%\n"
    }
   }
  }
 ],
 "metadata": {
  "interpreter": {
   "hash": "369f2c481f4da34e4445cda3fffd2e751bd1c4d706f27375911949ba6bb62e1c"
  },
  "kernelspec": {
   "display_name": "Python 3.10.4 64-bit",
   "language": "python",
   "name": "python3"
  },
  "language_info": {
   "codemirror_mode": {
    "name": "ipython",
    "version": 3
   },
   "file_extension": ".py",
   "mimetype": "text/x-python",
   "name": "python",
   "nbconvert_exporter": "python",
   "pygments_lexer": "ipython3",
   "version": "3.10.4"
  },
  "orig_nbformat": 4
 },
 "nbformat": 4,
 "nbformat_minor": 2
}